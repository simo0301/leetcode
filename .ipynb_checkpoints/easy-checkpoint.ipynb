{
 "cells": [
  {
   "cell_type": "code",
   "execution_count": null,
   "id": "be1f7813",
   "metadata": {},
   "outputs": [],
   "source": [
    "#1\n",
    "\n",
    "nums = [3,4,17,12,18,37,-3]\n",
    "target = 14\n",
    "class Solution:\n",
    "    def twoSum(self, nums, target):\n",
    "#         sol1\n",
    "#         for i in nums[:-1]:\n",
    "#             start = nums.index(i)\n",
    "#             j = target - i\n",
    "#             if j in nums[start+1:]:\n",
    "#                 return [start, start + 1 + nums[start+1:].index(j)]\n",
    "\n",
    "#         sol2\n",
    "        dict = {}\n",
    "        for i in range(len(nums)):\n",
    "            if target - nums[i] not in dict:\n",
    "                dict[nums[i]] = i\n",
    "            else:\n",
    "                return [dict[target - nums[i]], i]    \n",
    "            \n",
    "Solution().twoSum(nums, target)"
   ]
  },
  {
   "cell_type": "code",
   "execution_count": null,
   "id": "e05d0dc8",
   "metadata": {},
   "outputs": [],
   "source": [
    "#9\n",
    "class Solution:\n",
    "    \n",
    "    def isPalindrome(self, x):\n",
    "#         sol1\n",
    "        y = str(x)\n",
    "        n = int((len(str(x)) + 1)/2)\n",
    "        for i in range(n):\n",
    "            if y[i] != y[-(i+1)]:\n",
    "                return False\n",
    "        else: return True\n",
    "        \n",
    "#         sol2\n",
    "#         y = str(x)\n",
    "#         if y == y[::-1]:\n",
    "#             return True\n",
    "#         else:\n",
    "#             return False\n",
    "        \n",
    "        \n",
    "        \n",
    "x = 1256521\n",
    "Solution().isPalindrome(x)\n",
    "            \n",
    "            \n",
    "        "
   ]
  },
  {
   "cell_type": "code",
   "execution_count": null,
   "id": "c623ccf4",
   "metadata": {},
   "outputs": [],
   "source": [
    "#13\n",
    "class Solution:\n",
    "    def romanToInt(self, s):\n",
    "        dict = {'I':1, 'V':5, 'X':10, 'L':50, 'C':100, 'D':500, 'M':1000}\n",
    "        sum = 0\n",
    "        i = 0    \n",
    "        while i < len(s)-1:\n",
    "            if dict[s[i]] < dict[s[i+1]]:\n",
    "                sum = sum - dict[s[i]]\n",
    "\n",
    "            else:\n",
    "                sum = sum + dict[s[i]]\n",
    "            i+=1\n",
    "        sum = sum + dict[s[-1]]\n",
    "        return sum\n",
    "    \n",
    "s = \"IV\"\n",
    "Solution().romanToInt(s)   \n",
    "\n"
   ]
  },
  {
   "cell_type": "code",
   "execution_count": null,
   "id": "4349d4c5",
   "metadata": {},
   "outputs": [],
   "source": [
    "#14\n",
    "strs = [\"flower\",\"flow\",\"flight\"]\n",
    "class Solution:\n",
    "    def longestCommonPrefix(self, strs):\n",
    "        min = len(strs[0])\n",
    "        a = 0\n",
    "        for i in strs:\n",
    "            if len(i) < min:\n",
    "                a = strs.index(i)\n",
    "                min = len(i)\n",
    "        s = strs[a]\n",
    "        initial = \"\"\n",
    "        for j in range(len(s)):\n",
    "            for i in strs:\n",
    "                if s[j] != i[j]:\n",
    "                    return initial\n",
    "            else:\n",
    "                initial+=s[j]\n",
    "        return initial\n",
    "Solution().longestCommonPrefix(strs)"
   ]
  },
  {
   "cell_type": "code",
   "execution_count": null,
   "id": "22c73acd",
   "metadata": {},
   "outputs": [],
   "source": [
    "#質數計算機\n",
    "# n = int(input())\n",
    "n = 1000000\n",
    "count = 0\n",
    "for num in range(100000,n):\n",
    "    root = int(pow(num,0.5))\n",
    "    for i in range(2,root+1):\n",
    "        if num % i ==0:\n",
    "#             print(f\"{num} is not a prime.\")\n",
    "            break\n",
    "            \n",
    "            \n",
    "    else:\n",
    "        print(f\"{num} is a prime.\")\n",
    "        count += 1 \n",
    "print(count)\n",
    "        \n",
    "        \n",
    "        \n",
    "        \n",
    "        "
   ]
  },
  {
   "cell_type": "code",
   "execution_count": 1,
   "id": "62dc776a",
   "metadata": {},
   "outputs": [
    {
     "name": "stdout",
     "output_type": "stream",
     "text": [
      "['[']\n"
     ]
    },
    {
     "data": {
      "text/plain": [
       "False"
      ]
     },
     "execution_count": 1,
     "metadata": {},
     "output_type": "execute_result"
    }
   ],
   "source": [
    "#20\n",
    "class Solution:\n",
    "    def isValid(self, s):\n",
    "        dict = {'(':')', '{': '}', '[': ']'}\n",
    "        present = []\n",
    "        \n",
    "        if s == \"\": return True\n",
    "        c = -1\n",
    "        for i in s:\n",
    "            if i in dict:\n",
    "                present.append(i)\n",
    "            elif i == dict[present.pop()]:\n",
    "                continue\n",
    "            else:\n",
    "                return False\n",
    "        print(present)\n",
    "        if len(present) == 0 : return True\n",
    "        else: return False\n",
    "\n",
    "        \n",
    "s = \"[\"\n",
    "Solution().isValid(s)\n"
   ]
  },
  {
   "cell_type": "code",
   "execution_count": null,
   "id": "3c8d08c0",
   "metadata": {},
   "outputs": [],
   "source": []
  }
 ],
 "metadata": {
  "kernelspec": {
   "display_name": "Python 3 (ipykernel)",
   "language": "python",
   "name": "python3"
  },
  "language_info": {
   "codemirror_mode": {
    "name": "ipython",
    "version": 3
   },
   "file_extension": ".py",
   "mimetype": "text/x-python",
   "name": "python",
   "nbconvert_exporter": "python",
   "pygments_lexer": "ipython3",
   "version": "3.9.7"
  }
 },
 "nbformat": 4,
 "nbformat_minor": 5
}
